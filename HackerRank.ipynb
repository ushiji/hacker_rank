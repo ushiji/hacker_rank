{
 "cells": [
  {
   "cell_type": "markdown",
   "metadata": {},
   "source": [
    "# Find the Runner-Up Score!\n",
    "https://www.hackerrank.com/challenges/find-second-maximum-number-in-a-list/problem"
   ]
  },
  {
   "cell_type": "code",
   "execution_count": 4,
   "metadata": {},
   "outputs": [
    {
     "name": "stdout",
     "output_type": "stream",
     "text": [
      "range(0, 10)\n",
      "<map object at 0x10776fe80>\n",
      "[0, 2, 4, 6, 8, 10, 12, 14, 16, 18]\n"
     ]
    }
   ],
   "source": [
    "# map()とは、リストの要素に演算を適用してくれる関数\n",
    "print(range(0, 10))\n",
    "print(map(lambda x: x*2, range(10)))\n",
    "print(list(map(lambda x: x*2, range(10))))"
   ]
  },
  {
   "cell_type": "code",
   "execution_count": 12,
   "metadata": {},
   "outputs": [
    {
     "name": "stdout",
     "output_type": "stream",
     "text": [
      "4\n",
      "1 10 4 -10\n",
      "4\n"
     ]
    }
   ],
   "source": [
    "if __name__ == '__main__':\n",
    "    n = int(input())\n",
    "    arr = list(map(int, input().split()))\n",
    "    max_num = max(arr)\n",
    "    while max(arr) == max_num:\n",
    "        arr.remove(max(arr))    \n",
    "    print(max(arr))"
   ]
  },
  {
   "cell_type": "markdown",
   "metadata": {},
   "source": [
    "# Nested Lists\n",
    "https://www.hackerrank.com/challenges/nested-list/problem?h_r=next-challenge&h_v=zen"
   ]
  },
  {
   "cell_type": "code",
   "execution_count": 17,
   "metadata": {},
   "outputs": [
    {
     "name": "stdout",
     "output_type": "stream",
     "text": [
      "{1, 2, 3, 4, 5}\n",
      "{1, 2, 3}\n",
      "{1, 2, 3, 4}\n",
      "{'cat', 'bird', 'dog'}\n"
     ]
    }
   ],
   "source": [
    "# セットは集合を表すデータ型で、リスト等と同様に複数の要素をもつことができます。\n",
    "# 集合なので、リストとは異なり要素は順番をもちません。また、重複した要素は取り除かれます。\n",
    "\n",
    "print(set([1,2,3,4,5]))                                # set([1,2,3,4,5]) \n",
    "print(set([1,1,2,2,3,3]))                              # set([1,2,3])\n",
    "print(set([1,4,2,2,4,3]))                              # set([1,2,3,4])\n",
    "print(set({'dog':'inu', 'cat':'neko', 'bird':'tori'})) # set(['dog', 'cat', 'bird']) "
   ]
  },
  {
   "cell_type": "code",
   "execution_count": 21,
   "metadata": {},
   "outputs": [
    {
     "name": "stdout",
     "output_type": "stream",
     "text": [
      "5\n",
      "suzuki\n",
      "12\n",
      "sato\n",
      "14\n",
      "goto\n",
      "15\n",
      "ito\n",
      "14\n",
      "tanaka\n",
      "20\n",
      "ito\n",
      "sato\n"
     ]
    }
   ],
   "source": [
    "if __name__ == '__main__':\n",
    "    marksheet = []\n",
    "    scorelist = []\n",
    "    for _ in range(int(input())):\n",
    "        name = input()\n",
    "        score = float(input())\n",
    "        marksheet += [[name, score]]\n",
    "        scorelist += [score]\n",
    "    second_lowest_score = sorted(list(set(scorelist)))[1]\n",
    "    for a,b in sorted(marksheet):\n",
    "        if b == second_lowest_score:\n",
    "            print(a)"
   ]
  },
  {
   "cell_type": "markdown",
   "metadata": {},
   "source": [
    "# Finding the percentage\n",
    "https://www.hackerrank.com/challenges/finding-the-percentage/problem?h_r=next-challenge&h_v=zen"
   ]
  },
  {
   "cell_type": "code",
   "execution_count": null,
   "metadata": {
    "collapsed": true
   },
   "outputs": [],
   "source": []
  },
  {
   "cell_type": "code",
   "execution_count": null,
   "metadata": {
    "collapsed": true
   },
   "outputs": [],
   "source": []
  },
  {
   "cell_type": "code",
   "execution_count": null,
   "metadata": {
    "collapsed": true
   },
   "outputs": [],
   "source": []
  }
 ],
 "metadata": {
  "kernelspec": {
   "display_name": "Python 3",
   "language": "python",
   "name": "python3"
  },
  "language_info": {
   "codemirror_mode": {
    "name": "ipython",
    "version": 3
   },
   "file_extension": ".py",
   "mimetype": "text/x-python",
   "name": "python",
   "nbconvert_exporter": "python",
   "pygments_lexer": "ipython3",
   "version": "3.6.1"
  }
 },
 "nbformat": 4,
 "nbformat_minor": 2
}
