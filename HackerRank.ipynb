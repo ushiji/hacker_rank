{
 "cells": [
  {
   "cell_type": "markdown",
   "metadata": {},
   "source": [
    "# Find the Runner-Up Score!\n",
    "https://www.hackerrank.com/challenges/find-second-maximum-number-in-a-list/problem"
   ]
  },
  {
   "cell_type": "code",
   "execution_count": 4,
   "metadata": {},
   "outputs": [
    {
     "name": "stdout",
     "output_type": "stream",
     "text": [
      "range(0, 10)\n",
      "<map object at 0x10776fe80>\n",
      "[0, 2, 4, 6, 8, 10, 12, 14, 16, 18]\n"
     ]
    }
   ],
   "source": [
    "# map()とは、リストの要素に演算を適用してくれる関数\n",
    "print(range(0, 10))\n",
    "print(map(lambda x: x*2, range(10)))\n",
    "print(list(map(lambda x: x*2, range(10))))"
   ]
  },
  {
   "cell_type": "code",
   "execution_count": 12,
   "metadata": {},
   "outputs": [
    {
     "name": "stdout",
     "output_type": "stream",
     "text": [
      "4\n",
      "1 10 4 -10\n",
      "4\n"
     ]
    }
   ],
   "source": [
    "if __name__ == '__main__':\n",
    "    n = int(input())\n",
    "    arr = list(map(int, input().split()))\n",
    "    max_num = max(arr)\n",
    "    while max(arr) == max_num:\n",
    "        arr.remove(max(arr))    \n",
    "    print(max(arr))"
   ]
  },
  {
   "cell_type": "markdown",
   "metadata": {},
   "source": [
    "# Nested Lists\n",
    "https://www.hackerrank.com/challenges/nested-list/problem?h_r=next-challenge&h_v=zen"
   ]
  },
  {
   "cell_type": "code",
   "execution_count": 17,
   "metadata": {},
   "outputs": [
    {
     "name": "stdout",
     "output_type": "stream",
     "text": [
      "{1, 2, 3, 4, 5}\n",
      "{1, 2, 3}\n",
      "{1, 2, 3, 4}\n",
      "{'cat', 'bird', 'dog'}\n"
     ]
    }
   ],
   "source": [
    "# セットは集合を表すデータ型で、リスト等と同様に複数の要素をもつことができます。\n",
    "# 集合なので、リストとは異なり要素は順番をもちません。また、重複した要素は取り除かれます。\n",
    "\n",
    "print(set([1,2,3,4,5]))                                # set([1,2,3,4,5]) \n",
    "print(set([1,1,2,2,3,3]))                              # set([1,2,3])\n",
    "print(set([1,4,2,2,4,3]))                              # set([1,2,3,4])\n",
    "print(set({'dog':'inu', 'cat':'neko', 'bird':'tori'})) # set(['dog', 'cat', 'bird']) "
   ]
  },
  {
   "cell_type": "code",
   "execution_count": 21,
   "metadata": {},
   "outputs": [
    {
     "name": "stdout",
     "output_type": "stream",
     "text": [
      "5\n",
      "suzuki\n",
      "12\n",
      "sato\n",
      "14\n",
      "goto\n",
      "15\n",
      "ito\n",
      "14\n",
      "tanaka\n",
      "20\n",
      "ito\n",
      "sato\n"
     ]
    }
   ],
   "source": [
    "if __name__ == '__main__':\n",
    "    marksheet = []\n",
    "    scorelist = []\n",
    "    for _ in range(int(input())):\n",
    "        name = input()\n",
    "        score = float(input())\n",
    "        marksheet += [[name, score]]\n",
    "        scorelist += [score]\n",
    "    second_lowest_score = sorted(list(set(scorelist)))[1]\n",
    "    for a,b in sorted(marksheet):\n",
    "        if b == second_lowest_score:\n",
    "            print(a)"
   ]
  },
  {
   "cell_type": "markdown",
   "metadata": {},
   "source": [
    "# Finding the percentage\n",
    "https://www.hackerrank.com/challenges/finding-the-percentage/problem?h_r=next-challenge&h_v=zen"
   ]
  },
  {
   "cell_type": "code",
   "execution_count": 23,
   "metadata": {},
   "outputs": [
    {
     "name": "stdout",
     "output_type": "stream",
     "text": [
      "1 2 [3, 4, 5]\n",
      "1 2 [3, 4, 5]\n"
     ]
    }
   ],
   "source": [
    "# Python でのアスタリスクの使い方\n",
    "# https://qiita.com/LouiS0616/items/1bbe0a9bb93054f6c380\n",
    "\n",
    "a, b, *other = [1, 2, 3, 4, 5]\n",
    "print(a, b, other)\n",
    "\n",
    "#左辺に複数の要素を置くとき、要素のひとつにアスタリスクを付けることが出来る。\n",
    "#上記の例では、左から順に代入を終えたあと、余った要素がotherに放り込まれる。\n",
    "#次のように書いているのと同じ。\n",
    "\n",
    "my_list = [1, 2, 3, 4, 5]\n",
    "a = my_list[0]\n",
    "b = my_list[1]\n",
    "other = my_list[2:]\n",
    "\n",
    "print(a, b, other)"
   ]
  },
  {
   "cell_type": "code",
   "execution_count": 32,
   "metadata": {},
   "outputs": [
    {
     "name": "stdout",
     "output_type": "stream",
     "text": [
      "490.00\n",
      "平均: 490.00\n",
      "中央値: 500.00\n",
      "分散: 58777.78\n",
      "標準偏差: 242.44\n"
     ]
    }
   ],
   "source": [
    "# 平均の求め方\n",
    "# https://qiita.com/JunJun0706/items/9d1befb90a823c466c32\n",
    "\n",
    "data = [800,200,700,300,100,400,500,500,600,800]\n",
    "s = sum(data)\n",
    "N = len(data)\n",
    "mean = s / N\n",
    "print('平均:{0:.2f}'.format(mean))\n",
    "\n",
    "\n",
    "\n",
    "from statistics import mean, median,variance,stdev\n",
    "\n",
    "m = mean(data)\n",
    "median = median(data)\n",
    "variance = variance(data)\n",
    "stdev = stdev(data)\n",
    "print('平均: {0:.2f}'.format(m))\n",
    "print('中央値: {0:.2f}'.format(median))\n",
    "print('分散: {0:.2f}'.format(variance))\n",
    "print('標準偏差: {0:.2f}'.format(stdev))"
   ]
  },
  {
   "cell_type": "code",
   "execution_count": 34,
   "metadata": {},
   "outputs": [
    {
     "name": "stdout",
     "output_type": "stream",
     "text": [
      "1\n",
      "goto 1 2 3\n",
      "goto\n",
      "2.00\n"
     ]
    }
   ],
   "source": [
    "if __name__ == '__main__':\n",
    "    n = int(input())\n",
    "    student_marks = {}\n",
    "    for _ in range(n):\n",
    "        name, *line = input().split()\n",
    "        scores = list(map(float, line))\n",
    "        student_marks[name] = scores\n",
    "    query_name = input()\n",
    "    print('{0:.2f}'.format(sum(student_marks[query_name]) / len(student_marks[query_name])))\n",
    "    \n"
   ]
  },
  {
   "cell_type": "markdown",
   "metadata": {},
   "source": [
    "# Lists\n",
    "https://www.hackerrank.com/challenges/python-lists/problem"
   ]
  },
  {
   "cell_type": "code",
   "execution_count": null,
   "metadata": {
    "collapsed": true
   },
   "outputs": [],
   "source": [
    "'''\n",
    "insert i e: Insert integer e at position i.\n",
    "print: Print the list.\n",
    "remove e: Delete the first occurrence of integer e.\n",
    "append e: Insert integer  at the end of the list.\n",
    "sort: Sort the list.\n",
    "pop: Pop the last element from the list.\n",
    "reverse: Reverse the list.\n",
    "'''\n"
   ]
  },
  {
   "cell_type": "code",
   "execution_count": 3,
   "metadata": {},
   "outputs": [
    {
     "name": "stdout",
     "output_type": "stream",
     "text": [
      "[0, 1, 2]\n",
      "[100, 0, 1, 2]\n",
      "[100, 0, 1, 200, 2]\n"
     ]
    }
   ],
   "source": [
    "# insert\n",
    "l = list(range(3))\n",
    "print(l)\n",
    "# [0, 1, 2]\n",
    "\n",
    "l.insert(0, 100)\n",
    "print(l)\n",
    "# [100, 0, 1, 2]\n",
    "\n",
    "l.insert(-1, 200)\n",
    "print(l)\n",
    "# [100, 0, 1, 200, 2]"
   ]
  },
  {
   "cell_type": "code",
   "execution_count": 9,
   "metadata": {},
   "outputs": [
    {
     "name": "stdout",
     "output_type": "stream",
     "text": [
      "[0, 1, 2]\n",
      "[0, 1, 2, 100]\n",
      "[0, 1, 2, 100, 'new']\n"
     ]
    }
   ],
   "source": [
    "# append\n",
    "l = list(range(3))\n",
    "print(l)\n",
    "# [0, 1, 2]\n",
    "\n",
    "l.append(100)\n",
    "print(l)\n",
    "# [0, 1, 2, 100]\n",
    "\n",
    "l.append('new')\n",
    "print(l)\n",
    "# [0, 1, 2, 100, 'new']"
   ]
  },
  {
   "cell_type": "code",
   "execution_count": 12,
   "metadata": {},
   "outputs": [
    {
     "name": "stdout",
     "output_type": "stream",
     "text": [
      "['a', 'b', 'c', 'd', 'e', 'f', 'g', 'd']\n",
      "['a', 'b', 'c', 'e', 'f', 'g', 'd']\n"
     ]
    }
   ],
   "source": [
    "# remove\n",
    "l = list('abcdefgd')\n",
    "print(l)\n",
    "# ['a', 'b', 'c', 'd', 'e', 'f', 'g','d']\n",
    "\n",
    "l.remove('d')\n",
    "print(l)\n",
    "# ['a', 'b', 'c', 'e', 'f', 'g','d']\n"
   ]
  },
  {
   "cell_type": "code",
   "execution_count": null,
   "metadata": {
    "collapsed": true
   },
   "outputs": [],
   "source": []
  },
  {
   "cell_type": "code",
   "execution_count": 13,
   "metadata": {},
   "outputs": [
    {
     "name": "stdout",
     "output_type": "stream",
     "text": [
      "1\n",
      "insert 1 1\n"
     ]
    }
   ],
   "source": [
    "if __name__ == '__main__':\n",
    "    N = int(input())\n",
    "    l = []\n",
    "    for i in range(N):\n",
    "        s = input().split()\n",
    "        cmd = s[0]\n",
    "        arg = s[1:]\n",
    "        if cmd == 'insert':\n",
    "            l.insert(int(arg[0]), int(arg[1]))\n",
    "        elif cmd == 'remove':\n",
    "            l.remove(int(arg[0]))\n",
    "        elif cmd == 'append':\n",
    "            l.append(int(arg[0]))\n",
    "        elif cmd == 'sort':\n",
    "            l.sort()\n",
    "        elif cmd == 'pop':\n",
    "            l.pop(-1)\n",
    "        elif cmd == 'reverse':\n",
    "            l.reverse()\n",
    "        else:\n",
    "            print(l)"
   ]
  },
  {
   "cell_type": "markdown",
   "metadata": {},
   "source": [
    "# Tuples\n",
    "https://www.hackerrank.com/challenges/python-tuples/problem?h_r=next-challenge&h_v=zen"
   ]
  },
  {
   "cell_type": "code",
   "execution_count": 16,
   "metadata": {},
   "outputs": [
    {
     "name": "stdout",
     "output_type": "stream",
     "text": [
      "1\n",
      "1\n",
      "3430019387558\n"
     ]
    }
   ],
   "source": [
    "if __name__ == '__main__':\n",
    "    n = int(input())\n",
    "    integer_list = map(int, input().split())\n",
    "    tpl = tuple(integer_list)\n",
    "    print(hash(tpl))\n",
    "    \n",
    "\n"
   ]
  },
  {
   "cell_type": "markdown",
   "metadata": {
    "collapsed": true
   },
   "source": [
    "# sWAP cASE\n",
    "https://www.hackerrank.com/challenges/swap-case/problem"
   ]
  },
  {
   "cell_type": "code",
   "execution_count": 1,
   "metadata": {},
   "outputs": [
    {
     "name": "stdout",
     "output_type": "stream",
     "text": [
      "abcABCあいう\n",
      "ABCabcあいう\n"
     ]
    }
   ],
   "source": [
    "#swapcase\n",
    "a1 = 'ABCabcあいう'\n",
    "\n",
    "b1 = a1.swapcase()\n",
    "\n",
    "print(b1) # abcABCあいう\n",
    "\n",
    "\n",
    "a2 = 'abcABCあいう'\n",
    "\n",
    "b2 = a2.swapcase()\n",
    "\n",
    "print(b2) # ABCabcあいう"
   ]
  },
  {
   "cell_type": "code",
   "execution_count": 3,
   "metadata": {},
   "outputs": [
    {
     "name": "stdout",
     "output_type": "stream",
     "text": [
      "abcDEF2\n",
      "ABCdef2\n"
     ]
    }
   ],
   "source": [
    "def swap_case(s):\n",
    "    return s.swapcase()\n",
    "\n",
    "if __name__ == '__main__':\n",
    "    s = input()\n",
    "    result = swap_case(s)\n",
    "    print(result)"
   ]
  },
  {
   "cell_type": "markdown",
   "metadata": {},
   "source": [
    "# String Split and Join\n",
    "https://www.hackerrank.com/challenges/python-string-split-and-join/problem\n"
   ]
  },
  {
   "cell_type": "code",
   "execution_count": 5,
   "metadata": {},
   "outputs": [
    {
     "name": "stdout",
     "output_type": "stream",
     "text": [
      "['this', 'is', 'a', 'string']\n",
      "this-is-a-string\n"
     ]
    }
   ],
   "source": [
    ">>> a = \"this is a string\"\n",
    ">>> a = a.split(\" \") # a is converted to a list of strings. \n",
    ">>> print(a)\n",
    "\n",
    ">>> a = \"-\".join(a)\n",
    ">>> print(a)"
   ]
  },
  {
   "cell_type": "code",
   "execution_count": null,
   "metadata": {
    "collapsed": true
   },
   "outputs": [],
   "source": [
    "def split_and_join(line):\n",
    "    # write your code here\n",
    "    a = line.split(' ')\n",
    "    a = '-'.join(a)\n",
    "    return a\n",
    "\n",
    "if __name__ == '__main__':\n",
    "    line = input()\n",
    "    result = split_and_join(line)\n",
    "    print(result)"
   ]
  },
  {
   "cell_type": "markdown",
   "metadata": {},
   "source": [
    "# Find a string\n",
    "https://www.hackerrank.com/challenges/find-a-string/problem?h_r=next-challenge&h_v=zen&h_r=next-challenge&h_v=zen&h_r=next-challenge&h_v=zen"
   ]
  },
  {
   "cell_type": "code",
   "execution_count": 6,
   "metadata": {},
   "outputs": [
    {
     "name": "stdout",
     "output_type": "stream",
     "text": [
      "7\n"
     ]
    }
   ],
   "source": [
    "st = \"Hello, Python and Perl and Ruby and more.\"\n",
    "fd = st.find('Python')\n",
    "print(fd)"
   ]
  },
  {
   "cell_type": "code",
   "execution_count": 11,
   "metadata": {},
   "outputs": [
    {
     "name": "stdout",
     "output_type": "stream",
     "text": [
      "abcdcdc\n",
      "cdc\n",
      "1\n",
      "dcdc\n",
      "2\n",
      "dc\n",
      "2\n"
     ]
    }
   ],
   "source": [
    "def count_substring(string, sub_string):\n",
    "    x = 0\n",
    "    for i in range(len(string)):\n",
    "        if string.find(sub_string) >= 0:\n",
    "            x += 1\n",
    "            string = string[string.find(sub_string)+1:]\n",
    "    return x\n",
    "\n",
    "if __name__ == '__main__':\n",
    "    string = input().strip()\n",
    "    sub_string = input().strip()\n",
    "    \n",
    "    count = count_substring(string, sub_string)\n",
    "    print(count)"
   ]
  },
  {
   "cell_type": "markdown",
   "metadata": {
    "collapsed": true
   },
   "source": [
    "# String Validators\n",
    "https://www.hackerrank.com/challenges/string-validators/problem"
   ]
  },
  {
   "cell_type": "code",
   "execution_count": 6,
   "metadata": {},
   "outputs": [
    {
     "name": "stdout",
     "output_type": "stream",
     "text": [
      "2\n"
     ]
    }
   ],
   "source": [
    "x = True\n",
    "y = True\n",
    "z = x + y\n",
    "print(z)"
   ]
  },
  {
   "cell_type": "code",
   "execution_count": 8,
   "metadata": {},
   "outputs": [
    {
     "name": "stdout",
     "output_type": "stream",
     "text": [
      "12421\n",
      "True\n",
      "False\n",
      "True\n",
      "False\n",
      "False\n"
     ]
    }
   ],
   "source": [
    "if __name__ == '__main__':\n",
    "    s = input()\n",
    "    x1 = 0\n",
    "    x2 = 0\n",
    "    x3 = 0\n",
    "    x4 = 0\n",
    "    x5 = 0\n",
    "    for i in range(len(s)):\n",
    "        x1 += s[i].isalnum() \n",
    "    if x1 > 0:\n",
    "        print('True')\n",
    "    else:\n",
    "        print('False')\n",
    "\n",
    "    for i in range(len(s)):\n",
    "        x2 += s[i].isalpha() \n",
    "    if x2 > 0:\n",
    "        print('True')\n",
    "    else:\n",
    "        print('False')\n",
    "  \n",
    "    for i in range(len(s)):\n",
    "        x3 += s[i].isdigit() \n",
    "    if x3 > 0:\n",
    "        print('True')\n",
    "    else:\n",
    "        print('False')\n",
    "        \n",
    "    for i in range(len(s)):\n",
    "        x4 += s[i].islower() \n",
    "    if x4 > 0:\n",
    "        print('True')\n",
    "    else:\n",
    "        print('False')\n",
    "    \n",
    "    for i in range(len(s)):\n",
    "        x5 += s[i].isupper() \n",
    "    if x5 > 0:\n",
    "        print('True')\n",
    "    else:\n",
    "        print('False')\n"
   ]
  },
  {
   "cell_type": "markdown",
   "metadata": {
    "collapsed": true
   },
   "source": [
    "# Text Alignment\n",
    "https://www.hackerrank.com/challenges/text-alignment/problem"
   ]
  },
  {
   "cell_type": "code",
   "execution_count": 18,
   "metadata": {},
   "outputs": [
    {
     "name": "stdout",
     "output_type": "stream",
     "text": [
      "5\n",
      "    H    \n",
      "   HHH   \n",
      "  HHHHH  \n",
      " HHHHHHH \n",
      "HHHHHHHHH\n",
      "  HHHHH               HHHHH             \n",
      "  HHHHH               HHHHH             \n",
      "  HHHHH               HHHHH             \n",
      "  HHHHH               HHHHH             \n",
      "  HHHHH               HHHHH             \n",
      "  HHHHH               HHHHH             \n",
      "  HHHHHHHHHHHHHHHHHHHHHHHHH   \n",
      "  HHHHHHHHHHHHHHHHHHHHHHHHH   \n",
      "  HHHHHHHHHHHHHHHHHHHHHHHHH   \n",
      "  HHHHH               HHHHH             \n",
      "  HHHHH               HHHHH             \n",
      "  HHHHH               HHHHH             \n",
      "  HHHHH               HHHHH             \n",
      "  HHHHH               HHHHH             \n",
      "  HHHHH               HHHHH             \n",
      "                    HHHHHHHHH \n",
      "                     HHHHHHH  \n",
      "                      HHHHH   \n",
      "                       HHH    \n",
      "                        H     \n"
     ]
    }
   ],
   "source": [
    "#Replace all ______ with rjust, ljust or center. \n",
    "\n",
    "thickness = int(input()) #This must be an odd number\n",
    "c = 'H'\n",
    "\n",
    "#Top Cone\n",
    "for i in range(thickness):\n",
    "    print((c*i).rjust(thickness-1)+c+(c*i).ljust(thickness-1))\n",
    "\n",
    "#Top Pillars\n",
    "for i in range(thickness+1):\n",
    "    print((c*thickness).center(thickness*2)+(c*thickness).center(thickness*6))\n",
    "\n",
    "#Middle Belt\n",
    "for i in range((thickness+1)//2):\n",
    "    print((c*thickness*5).center(thickness*6))    \n",
    "\n",
    "#Bottom Pillars\n",
    "for i in range(thickness+1):\n",
    "    print((c*thickness).center(thickness*2)+(c*thickness).center(thickness*6))    \n",
    "\n",
    "#Bottom Cone\n",
    "for i in range(thickness):\n",
    "    print(((c*(thickness-i-1)).rjust(thickness)+c+(c*(thickness-i-1)).ljust(thickness)).rjust(thickness*6))\n",
    "\n"
   ]
  },
  {
   "cell_type": "markdown",
   "metadata": {
    "collapsed": true
   },
   "source": [
    "# Text Wrap\n",
    "\n",
    "https://www.hackerrank.com/challenges/text-wrap/problem"
   ]
  },
  {
   "cell_type": "code",
   "execution_count": 5,
   "metadata": {},
   "outputs": [
    {
     "name": "stdout",
     "output_type": "stream",
     "text": [
      "abc\n",
      "def\n",
      "g\n"
     ]
    }
   ],
   "source": [
    "import textwrap\n",
    "text = 'abcdefg'\n",
    "wtext = textwrap.wrap(text, width=3)\n",
    "for i in range(len(wtext)):\n",
    "    print(wtext[i])\n",
    "\n",
    "\n"
   ]
  },
  {
   "cell_type": "code",
   "execution_count": 6,
   "metadata": {},
   "outputs": [
    {
     "name": "stdout",
     "output_type": "stream",
     "text": [
      "abc\n",
      "def\n",
      "g\n"
     ]
    }
   ],
   "source": [
    "import textwrap\n",
    "text = 'abcdefg'\n",
    "wtext = textwrap.fill(text, width=3)\n",
    "print(wtext)"
   ]
  },
  {
   "cell_type": "code",
   "execution_count": 7,
   "metadata": {},
   "outputs": [
    {
     "name": "stdout",
     "output_type": "stream",
     "text": [
      "aserhbsgrkejtn;lkfjdgspiojger\n",
      "5\n",
      "aserh\n",
      "bsgrk\n",
      "ejtn;\n",
      "lkfjd\n",
      "gspio\n",
      "jger\n"
     ]
    }
   ],
   "source": [
    "import textwrap\n",
    "\n",
    "def wrap(string, max_width):\n",
    "    return textwrap.fill(string, width=max_width)\n",
    "\n",
    "if __name__ == '__main__':\n",
    "    string, max_width = input(), int(input())\n",
    "    result = wrap(string, max_width)\n",
    "    print(result)"
   ]
  },
  {
   "cell_type": "markdown",
   "metadata": {
    "collapsed": true
   },
   "source": [
    "# Designer Door Mat\n",
    "\n",
    "https://www.hackerrank.com/challenges/designer-door-mat/problem"
   ]
  },
  {
   "cell_type": "markdown",
   "metadata": {
    "collapsed": true
   },
   "source": [
    "    Size: 7 x 21 \n",
    "    ---------.|.---------\n",
    "    ------.|..|..|.------\n",
    "    ---.|..|..|..|..|.---\n",
    "    -------WELCOME-------\n",
    "    ---.|..|..|..|..|.---\n",
    "    ------.|..|..|.------\n",
    "    ---------.|.---------"
   ]
  },
  {
   "cell_type": "code",
   "execution_count": 19,
   "metadata": {},
   "outputs": [
    {
     "name": "stdout",
     "output_type": "stream",
     "text": [
      "1 2\n",
      "1 2\n",
      "<class 'str'>\n",
      "['1', '2']\n"
     ]
    }
   ],
   "source": [
    "s = input()\n",
    "print(s)\n",
    "print(type(s))\n",
    "s = s.split()\n",
    "print(s)"
   ]
  },
  {
   "cell_type": "code",
   "execution_count": 20,
   "metadata": {},
   "outputs": [
    {
     "name": "stdout",
     "output_type": "stream",
     "text": [
      "7 21\n",
      "---------.|.---------\n",
      "------.|..|..|.------\n",
      "---.|..|..|..|..|.---\n",
      "-------WELCOME-------\n",
      "---.|..|..|..|..|.---\n",
      "------.|..|..|.------\n",
      "---------.|.---------\n"
     ]
    }
   ],
   "source": [
    "if __name__ == '__main__':\n",
    "    size = int(input().split()[0])\n",
    "    char = '.|.'\n",
    "    for i in range(size // 2):\n",
    "        print((char*(i*2+1)).center(size*3, '-'))\n",
    "    print('WELCOME'.center(size*3, '-'))\n",
    "    for i in range(size // 2):\n",
    "        print((char*((size // 2)*2 - (i*2) -1)).center(size*3, '-'))\n",
    "\n",
    "    \n",
    "    \n",
    "    \n",
    "    \n",
    "    \n",
    "    "
   ]
  },
  {
   "cell_type": "markdown",
   "metadata": {},
   "source": [
    "# String Formatting\n",
    "https://www.hackerrank.com/challenges/python-string-formatting/problem?h_r=next-challenge&h_v=zen\n"
   ]
  },
  {
   "cell_type": "code",
   "execution_count": 24,
   "metadata": {},
   "outputs": [
    {
     "name": "stdout",
     "output_type": "stream",
     "text": [
      "0b11111111\n",
      "0o377\n",
      "0xff\n",
      "<class 'str'>\n",
      "<class 'str'>\n",
      "<class 'str'>\n",
      "10\n",
      "5\n",
      "4\n"
     ]
    }
   ],
   "source": [
    "# https://note.nkmk.me/python-bin-oct-hex-int-format/\n",
    "\n",
    "i = 255\n",
    "\n",
    "bin_str = bin(i)\n",
    "oct_str = oct(i)\n",
    "hex_str = hex(i)\n",
    "\n",
    "print(bin_str)\n",
    "print(oct_str)\n",
    "print(hex_str)\n",
    "# 0b11111111\n",
    "# 0o377\n",
    "# 0xff\n",
    "\n",
    "print(type(bin_str))\n",
    "print(type(oct_str))\n",
    "print(type(hex_str))\n",
    "# <class 'str'>\n",
    "# <class 'str'>\n",
    "# <class 'str'>\n",
    "\n",
    "print(len(bin_str))\n",
    "print(len(oct_str))\n",
    "print(len(hex_str))"
   ]
  },
  {
   "cell_type": "code",
   "execution_count": 29,
   "metadata": {},
   "outputs": [
    {
     "name": "stdout",
     "output_type": "stream",
     "text": [
      "11111111\n",
      "377\n",
      "ff\n",
      "<class 'str'>\n",
      "<class 'str'>\n",
      "<class 'str'>\n"
     ]
    }
   ],
   "source": [
    "i = 255\n",
    "\n",
    "bin_str = format(i, 'b')\n",
    "oct_str = format(i, 'o')\n",
    "hex_str = format(i, 'x')\n",
    "\n",
    "print(bin_str)\n",
    "print(oct_str)\n",
    "print(hex_str)\n",
    "# 11111111\n",
    "# 377\n",
    "# ff\n",
    "\n",
    "print(type(bin_str))\n",
    "print(type(oct_str))\n",
    "print(type(hex_str))\n",
    "# <class 'str'>\n",
    "# <class 'str'>\n",
    "# <class 'str'>"
   ]
  },
  {
   "cell_type": "code",
   "execution_count": 36,
   "metadata": {},
   "outputs": [
    {
     "name": "stdout",
     "output_type": "stream",
     "text": [
      "10\n",
      "    1    1    1    1\n",
      "    2    2    2   10\n",
      "    3    3    3   11\n",
      "    4    4    4  100\n",
      "    5    5    5  101\n",
      "    6    6    6  110\n",
      "    7    7    7  111\n",
      "    8   10    8 1000\n",
      "    9   11    9 1001\n",
      "   10   12    A 1010\n"
     ]
    }
   ],
   "source": [
    "def print_formatted(number):\n",
    "    # your code goes here\n",
    "    for i in range(n):\n",
    "        print(str(i+1).rjust(len(format(n, 'b')))\n",
    "              + format(i+1, 'o').rjust(len(format(n, 'b'))+1)\n",
    "              + format(i+1, 'X').rjust(len(format(n, 'b'))+1)\n",
    "              + format(i+1, 'b').rjust(len(format(n, 'b'))+1))\n",
    "\n",
    "if __name__ == '__main__':\n",
    "    n = int(input())\n",
    "    print_formatted(n)"
   ]
  },
  {
   "cell_type": "markdown",
   "metadata": {
    "collapsed": true
   },
   "source": [
    "# Alphabet Rangoli\n",
    " \n",
    " \n",
    " https://www.hackerrank.com/challenges/alphabet-rangoli/problem\n",
    "\n",
    "size 3\n",
    "----c----\n",
    "--c-b-c--\n",
    "c-b-a-b-c\n",
    "--c-b-c--\n",
    "----c----\n"
   ]
  },
  {
   "cell_type": "code",
   "execution_count": 1,
   "metadata": {},
   "outputs": [
    {
     "data": {
      "text/plain": [
       "'abcdefghijklmnopqrstuvwxyz'"
      ]
     },
     "execution_count": 1,
     "metadata": {},
     "output_type": "execute_result"
    }
   ],
   "source": [
    "import string\n",
    "string.ascii_lowercase"
   ]
  },
  {
   "cell_type": "code",
   "execution_count": 46,
   "metadata": {},
   "outputs": [
    {
     "name": "stdout",
     "output_type": "stream",
     "text": [
      "--------e--------\n",
      "------e-d-e------\n",
      "----e-d-c-d-e----\n",
      "--e-d-c-b-c-d-e--\n",
      "e-d-c-b-a-b-c-d-e\n",
      "--e-d-c-b-c-d-e--\n",
      "----e-d-c-d-e----\n",
      "------e-d-e------\n",
      "--------e--------\n"
     ]
    }
   ],
   "source": [
    "import string\n",
    "alpha = string.ascii_lowercase\n",
    "#s = '-'.join(alpha[0:4])\n",
    "#print(s)\n",
    "#print(s[::-1]+s[1:])\n",
    "\n",
    "n=5\n",
    "L = []\n",
    "    \n",
    "for i in range(n-1):\n",
    "    s = '-'.join(alpha[n-i-1:n])\n",
    "    L.append((s[::-1]+s[1:]).center(4*n-3, \"-\"))\n",
    "\n",
    "for i in range(n):\n",
    "    s = '-'.join(alpha[i:n])\n",
    "    L.append((s[::-1]+s[1:]).center(4*n-3, \"-\"))\n",
    "\n",
    "print('\\n'.join(L))    \n"
   ]
  },
  {
   "cell_type": "code",
   "execution_count": 48,
   "metadata": {},
   "outputs": [
    {
     "name": "stdout",
     "output_type": "stream",
     "text": [
      "5\n",
      "--------e--------\n",
      "------e-d-e------\n",
      "----e-d-c-d-e----\n",
      "--e-d-c-b-c-d-e--\n",
      "e-d-c-b-a-b-c-d-e\n",
      "--e-d-c-b-c-d-e--\n",
      "----e-d-c-d-e----\n",
      "------e-d-e------\n",
      "--------e--------\n"
     ]
    }
   ],
   "source": [
    "def print_rangoli(size):\n",
    "    # your code goes here\n",
    "    import string\n",
    "    alpha = string.ascii_lowercase\n",
    "    L = []\n",
    "    for i in range(size-1):\n",
    "        s = '-'.join(alpha[size-i-1:size])\n",
    "        L.append((s[::-1]+s[1:]).center(4*size-3, \"-\"))\n",
    "    for i in range(size):\n",
    "        s = '-'.join(alpha[i:size])\n",
    "        L.append((s[::-1]+s[1:]).center(4*size-3, \"-\"))\n",
    "    \n",
    "    print('\\n'.join(L))\n",
    "        \n",
    "        \n",
    "\n",
    "if __name__ == '__main__':\n",
    "    n = int(input())\n",
    "    print_rangoli(n)"
   ]
  },
  {
   "cell_type": "markdown",
   "metadata": {},
   "source": [
    "# Capitalize!\n",
    "\n",
    "\n",
    "https://www.hackerrank.com/challenges/capitalize/problem"
   ]
  },
  {
   "cell_type": "code",
   "execution_count": 68,
   "metadata": {},
   "outputs": [
    {
     "name": "stdout",
     "output_type": "stream",
     "text": [
      "Q W E R T Y U I O P A S D F G H J  K L Z X C V B N M Q W E R T Y U I O P A S D F G H J  K L Z X C V B N M\n"
     ]
    }
   ],
   "source": [
    "name = 'q w e r t y u i o p a s d f g h j  k l z x c v b n m Q W E R T Y U I O P A S D F G H J  K L Z X C V B N M'\n",
    "name_s = name.split(' ')\n",
    "for i in range(len(name_s)):\n",
    "    name_s[i] = name_s[i].capitalize()\n",
    "    \n",
    "print(' '.join(name_s))\n"
   ]
  },
  {
   "cell_type": "code",
   "execution_count": null,
   "metadata": {
    "collapsed": true
   },
   "outputs": [],
   "source": [
    "Q W E R T Y U I O P A S D F G H J  K L Z X C V B N M Q W E R T Y U I O P A S D F G H J  K L Z X C V B N M"
   ]
  },
  {
   "cell_type": "code",
   "execution_count": 64,
   "metadata": {},
   "outputs": [
    {
     "ename": "KeyError",
     "evalue": "'OUTPUT_PATH'",
     "output_type": "error",
     "traceback": [
      "\u001b[0;31m---------------------------------------------------------------------------\u001b[0m",
      "\u001b[0;31mKeyError\u001b[0m                                  Traceback (most recent call last)",
      "\u001b[0;32m<ipython-input-64-8af4cff24a36>\u001b[0m in \u001b[0;36m<module>\u001b[0;34m()\u001b[0m\n\u001b[1;32m     16\u001b[0m \u001b[0;34m\u001b[0m\u001b[0m\n\u001b[1;32m     17\u001b[0m \u001b[0;32mif\u001b[0m \u001b[0m__name__\u001b[0m \u001b[0;34m==\u001b[0m \u001b[0;34m'__main__'\u001b[0m\u001b[0;34m:\u001b[0m\u001b[0;34m\u001b[0m\u001b[0m\n\u001b[0;32m---> 18\u001b[0;31m     \u001b[0mfptr\u001b[0m \u001b[0;34m=\u001b[0m \u001b[0mopen\u001b[0m\u001b[0;34m(\u001b[0m\u001b[0mos\u001b[0m\u001b[0;34m.\u001b[0m\u001b[0menviron\u001b[0m\u001b[0;34m[\u001b[0m\u001b[0;34m'OUTPUT_PATH'\u001b[0m\u001b[0;34m]\u001b[0m\u001b[0;34m,\u001b[0m \u001b[0;34m'w'\u001b[0m\u001b[0;34m)\u001b[0m\u001b[0;34m\u001b[0m\u001b[0m\n\u001b[0m\u001b[1;32m     19\u001b[0m \u001b[0;34m\u001b[0m\u001b[0m\n\u001b[1;32m     20\u001b[0m     \u001b[0ms\u001b[0m \u001b[0;34m=\u001b[0m \u001b[0minput\u001b[0m\u001b[0;34m(\u001b[0m\u001b[0;34m)\u001b[0m\u001b[0;34m\u001b[0m\u001b[0m\n",
      "\u001b[0;32m/Users/shunjigoto/anaconda/lib/python3.6/os.py\u001b[0m in \u001b[0;36m__getitem__\u001b[0;34m(self, key)\u001b[0m\n\u001b[1;32m    667\u001b[0m         \u001b[0;32mexcept\u001b[0m \u001b[0mKeyError\u001b[0m\u001b[0;34m:\u001b[0m\u001b[0;34m\u001b[0m\u001b[0m\n\u001b[1;32m    668\u001b[0m             \u001b[0;31m# raise KeyError with the original key value\u001b[0m\u001b[0;34m\u001b[0m\u001b[0;34m\u001b[0m\u001b[0m\n\u001b[0;32m--> 669\u001b[0;31m             \u001b[0;32mraise\u001b[0m \u001b[0mKeyError\u001b[0m\u001b[0;34m(\u001b[0m\u001b[0mkey\u001b[0m\u001b[0;34m)\u001b[0m \u001b[0;32mfrom\u001b[0m \u001b[0;32mNone\u001b[0m\u001b[0;34m\u001b[0m\u001b[0m\n\u001b[0m\u001b[1;32m    670\u001b[0m         \u001b[0;32mreturn\u001b[0m \u001b[0mself\u001b[0m\u001b[0;34m.\u001b[0m\u001b[0mdecodevalue\u001b[0m\u001b[0;34m(\u001b[0m\u001b[0mvalue\u001b[0m\u001b[0;34m)\u001b[0m\u001b[0;34m\u001b[0m\u001b[0m\n\u001b[1;32m    671\u001b[0m \u001b[0;34m\u001b[0m\u001b[0m\n",
      "\u001b[0;31mKeyError\u001b[0m: 'OUTPUT_PATH'"
     ]
    }
   ],
   "source": [
    "#!/bin/python3\n",
    "\n",
    "import math\n",
    "import os\n",
    "import random\n",
    "import re\n",
    "import sys\n",
    "\n",
    "# Complete the solve function below.\n",
    "def solve(s):\n",
    "    s_l = s.split(' ')\n",
    "    for i in range(len(s_l)):\n",
    "        s_l[i] = s_l[i].capitalize()\n",
    "    return ' '.join(s_l)\n",
    "    \n",
    "\n",
    "if __name__ == '__main__':\n",
    "    fptr = open(os.environ['OUTPUT_PATH'], 'w')\n",
    "\n",
    "    s = input()\n",
    "\n",
    "    result = solve(s)\n",
    "\n",
    "    fptr.write(result + '\\n')\n",
    "\n",
    "    fptr.close()\n"
   ]
  },
  {
   "cell_type": "markdown",
   "metadata": {
    "collapsed": true
   },
   "source": [
    "# itertools.product()\n",
    "\n",
    "https://www.hackerrank.com/challenges/itertools-product/problem"
   ]
  },
  {
   "cell_type": "code",
   "execution_count": 4,
   "metadata": {},
   "outputs": [
    {
     "name": "stdout",
     "output_type": "stream",
     "text": [
      "<itertools.product object at 0x1082fea20>\n",
      "<class 'itertools.product'>\n",
      "('a', 'X')\n",
      "('a', 'Y')\n",
      "('a', 'Z')\n",
      "('b', 'X')\n",
      "('b', 'Y')\n",
      "('b', 'Z')\n",
      "('c', 'X')\n",
      "('c', 'Y')\n",
      "('c', 'Z')\n",
      "[('a', 'X'), ('a', 'Y'), ('a', 'Z'), ('b', 'X'), ('b', 'Y'), ('b', 'Z'), ('c', 'X'), ('c', 'Y'), ('c', 'Z')]\n"
     ]
    }
   ],
   "source": [
    "import itertools\n",
    "import pprint\n",
    "\n",
    "l1 = ['a', 'b', 'c']\n",
    "l2 = ['X', 'Y', 'Z']\n",
    "\n",
    "p = itertools.product(l1, l2)\n",
    "\n",
    "print(p)\n",
    "# <itertools.product object at 0x1026edd80>\n",
    "\n",
    "print(type(p))\n",
    "# <class 'itertools.product'>\n",
    "\n",
    "for v in p:\n",
    "    print(v)\n",
    "    \n",
    "l_p = list(itertools.product(l1, l2))\n",
    "print(l_p)"
   ]
  },
  {
   "cell_type": "code",
   "execution_count": 16,
   "metadata": {},
   "outputs": [
    {
     "name": "stdout",
     "output_type": "stream",
     "text": [
      "1 2 3\n",
      "2 3\n",
      "(1, 2) (1, 3) (2, 2) (2, 3) (3, 2) (3, 3)\n"
     ]
    }
   ],
   "source": [
    "import itertools\n",
    "\n",
    "A = input().split()\n",
    "B = input().split()\n",
    "\n",
    "Aint = [int(s) for s in A]\n",
    "Bint = [int(s) for s in B]\n",
    "\n",
    "\n",
    "result = list(itertools.product(Aint, Bint))\n",
    "\n",
    "\n",
    "print(*result)\n",
    "\n",
    "# Python3.xのアスタリスク逆引き\n",
    "# https://qiita.com/LouiS0616/items/1bbe0a9bb93054f6c380\n"
   ]
  },
  {
   "cell_type": "markdown",
   "metadata": {
    "collapsed": true
   },
   "source": [
    "# itertools.permutations()\n",
    "\n",
    "\n",
    "https://www.hackerrank.com/challenges/itertools-permutations/problem"
   ]
  },
  {
   "cell_type": "code",
   "execution_count": 21,
   "metadata": {},
   "outputs": [
    {
     "name": "stdout",
     "output_type": "stream",
     "text": [
      "HACK 2\n",
      "AC\n",
      "AH\n",
      "AK\n",
      "CA\n",
      "CH\n",
      "CK\n",
      "HA\n",
      "HC\n",
      "HK\n",
      "KA\n",
      "KC\n",
      "KH\n"
     ]
    }
   ],
   "source": [
    "import itertools\n",
    "a, b = input().split()\n",
    "#x[1] = int(x[1])\n",
    "print(*[''.join(i) for i in itertools.permutations(sorted(a),int(b))],sep='\\n')\n"
   ]
  },
  {
   "cell_type": "markdown",
   "metadata": {
    "collapsed": true
   },
   "source": [
    "# itertools.combinations()\n",
    "\n",
    "\n",
    "https://www.hackerrank.com/challenges/itertools-combinations/problem"
   ]
  },
  {
   "cell_type": "code",
   "execution_count": 2,
   "metadata": {},
   "outputs": [
    {
     "name": "stdout",
     "output_type": "stream",
     "text": [
      "HACK 2\n",
      "AC\n",
      "AH\n",
      "AK\n",
      "CH\n",
      "CK\n",
      "HK\n"
     ]
    }
   ],
   "source": [
    "import itertools\n",
    "a, b = input().split()\n",
    "#x[1] = int(x[1])\n",
    "print(*[''.join(i) for i in itertools.combinations(sorted(a),int(b))],sep='\\n')"
   ]
  },
  {
   "cell_type": "code",
   "execution_count": 3,
   "metadata": {},
   "outputs": [
    {
     "name": "stdout",
     "output_type": "stream",
     "text": [
      "HACK 2\n",
      "A\n",
      "C\n",
      "H\n",
      "K\n",
      "AC\n",
      "AH\n",
      "AK\n",
      "CH\n",
      "CK\n",
      "HK\n"
     ]
    }
   ],
   "source": [
    "import itertools\n",
    "a, b = input().split()\n",
    "\n",
    "for x in range(int(b)):\n",
    "    print(*[''.join(i) for i in itertools.combinations(sorted(a),x+1)],sep='\\n')"
   ]
  },
  {
   "cell_type": "markdown",
   "metadata": {},
   "source": [
    "# itertools.combinations_with_replacement()\n",
    "https://www.hackerrank.com/challenges/itertools-combinations-with-replacement/problem?h_r=next-challenge&h_v=zen"
   ]
  },
  {
   "cell_type": "code",
   "execution_count": 5,
   "metadata": {},
   "outputs": [
    {
     "name": "stdout",
     "output_type": "stream",
     "text": [
      "HACK 2\n",
      "AA\n",
      "AC\n",
      "AH\n",
      "AK\n",
      "CC\n",
      "CH\n",
      "CK\n",
      "HH\n",
      "HK\n",
      "KK\n"
     ]
    }
   ],
   "source": [
    "import itertools\n",
    "a, b = input().split()\n",
    "print(*[''.join(i) for i in itertools.combinations_with_replacement(sorted(a),int(b))],sep='\\n')"
   ]
  },
  {
   "cell_type": "code",
   "execution_count": null,
   "metadata": {
    "collapsed": true
   },
   "outputs": [],
   "source": []
  },
  {
   "cell_type": "code",
   "execution_count": null,
   "metadata": {
    "collapsed": true
   },
   "outputs": [],
   "source": []
  },
  {
   "cell_type": "code",
   "execution_count": null,
   "metadata": {
    "collapsed": true
   },
   "outputs": [],
   "source": []
  }
 ],
 "metadata": {
  "kernelspec": {
   "display_name": "Python 3",
   "language": "python",
   "name": "python3"
  },
  "language_info": {
   "codemirror_mode": {
    "name": "ipython",
    "version": 3
   },
   "file_extension": ".py",
   "mimetype": "text/x-python",
   "name": "python",
   "nbconvert_exporter": "python",
   "pygments_lexer": "ipython3",
   "version": "3.6.1"
  }
 },
 "nbformat": 4,
 "nbformat_minor": 2
}
